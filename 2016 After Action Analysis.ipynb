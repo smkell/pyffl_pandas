{
 "cells": [
  {
   "cell_type": "markdown",
   "metadata": {},
   "source": [
    "# Introduction\n",
    "\n",
    "At the onset of the 2016 fantasy football season I decided that I was going to try and win my league with numbers and computer science. I was going to take the opportunity to learn modern data science tools and finally put some of that college statistics I'd learned to use. \n",
    "\n",
    "A combination of factors led me to move through various tools and approaches at the beginning of the season. Ultimately I ended up using Excel to quickly fire up a list of players in the order I wanted by hand. In the next sectoin I'm goign to reproduce this methdology using python, specifically the data science package `pandas`."
   ]
  },
  {
   "cell_type": "markdown",
   "metadata": {},
   "source": [
    "# Python Reproduction of Excel Methodology\n",
    "\n",
    "## Imports\n",
    "\n",
    "These are the packages used to reproduce the list I used for drafting my team for 2016.\n",
    "\n",
    "* `pandas` Is a Python data analysis library and is available [here](http://pandas.pydata.org/)\n",
    "* `numpy` Is a package for scientific computing in python, used below primarily for its mathmatical functions and constructs. It is available [here](http://www.numpy.org/).\n",
    "* `matplotlib.pyplot` Is a package for plotting data and is available [here](http://matplotlib.org/).\n",
    "* `pyffl` Is a package I've developed for scraping fantasy football data and will be including any pure python functions there. It is available [here](https://github.com/smkell/pyffl)"
   ]
  },
  {
   "cell_type": "code",
   "execution_count": 1,
   "metadata": {
    "collapsed": true
   },
   "outputs": [],
   "source": [
    "import pandas as pd\n",
    "import numpy as np\n",
    "import matplotlib.pyplot as plt\n",
    "\n",
    "import pyffl"
   ]
  },
  {
   "cell_type": "markdown",
   "metadata": {},
   "source": [
    "## Getting the data\n",
    "\n",
    "My original intent was to use a wide variety of projection and ranking data to formulate my ranks. However, time, laziness and indecisiveness ulitmately led me to only using ESPN's standard projections. \n",
    "\n",
    "I've created a function in the `pyffl` package for retrieving projections from a variety of sources. Of course once again only `ESPN` is currently implemented."
   ]
  },
  {
   "cell_type": "code",
   "execution_count": 2,
   "metadata": {
    "collapsed": false
   },
   "outputs": [],
   "source": [
    "rules = pyffl.LeagueRules()"
   ]
  },
  {
   "cell_type": "code",
   "execution_count": 3,
   "metadata": {
    "collapsed": false
   },
   "outputs": [
    {
     "name": "stdout",
     "output_type": "stream",
     "text": [
      "\n",
      "Scraping ESPN projections for week 0 of 2016 season\n",
      "...Done\n"
     ]
    }
   ],
   "source": [
    "projections = pyffl.scrape_projections(['espn'], 2016)"
   ]
  },
  {
   "cell_type": "code",
   "execution_count": 4,
   "metadata": {
    "collapsed": false
   },
   "outputs": [],
   "source": [
    "projections = pyffl.calculate_points(projections, rules)"
   ]
  },
  {
   "cell_type": "markdown",
   "metadata": {},
   "source": [
    "## Building the dataframe\n",
    "\n",
    "Pandas primarily operates on objects known as `Series` and `DataFrame` where a `DataFrame` is a table composed of several `Series` associated together by an `index`. In the below code segment we construct a `DataFram` for our projections. The `*_key` lists give the names of the columns in the desired order for display."
   ]
  },
  {
   "cell_type": "code",
   "execution_count": 5,
   "metadata": {
    "collapsed": true
   },
   "outputs": [],
   "source": [
    "info_keys = ['name', 'team', 'position']\n",
    "skill_keys = ['passCmp', 'passAtt', 'passYds', 'passTds', 'passInts',\n",
    "              'rushAtt', 'rushYds', 'rushTds',\n",
    "              'recsCmp', 'recsAtt', 'recsYds', 'recsTds']\n",
    "dst_keys = ['dstTckls', 'dstSacks', 'dstFmblFrc', 'dstFmblRec', 'dstInts', 'dstIntTds', 'dstFmblTds']\n",
    "k_keys = ['fg0139Cmp', 'fg0139Att', 'fg4049Cmp', 'fg4049Att', 'fg50Cmp', 'fg50Att',\n",
    "          'fgCmp', 'fgAtt', 'xpCmp', 'xpAtt']\n",
    "calc_keys = ['pts']\n",
    "all_keys = info_keys + skill_keys + dst_keys + calc_keys\n",
    "df = pd.DataFrame(projections, columns=all_keys)"
   ]
  },
  {
   "cell_type": "markdown",
   "metadata": {},
   "source": [
    "## Calculating VOR \n",
    "\n",
    "`Value over replacement` is a measure of a player's value compared to other players in that position. The theory here is that we can measure how valuable a player by comparing how many more points he is projected to score than the next startable player in the position. Analysing this number shows descrete gaps in value where players are split in tiers. We can, in principle, use this information to pick the most valuable players at the right moment in the draft."
   ]
  },
  {
   "cell_type": "code",
   "execution_count": 6,
   "metadata": {
    "collapsed": false
   },
   "outputs": [],
   "source": [
    "# Add the value over replacement column\n",
    "df['vor'] = np.nan"
   ]
  },
  {
   "cell_type": "code",
   "execution_count": 7,
   "metadata": {
    "collapsed": false
   },
   "outputs": [],
   "source": [
    "# Positions is a `dict` where the key is the position, and the value is the number of players in that position which could\n",
    "# be started in any given week. I.e. if there are 8 teams in the league and one QB slot per team then 8 QBs could be started.\n",
    "# Likewise if there are 2 RB slots and 1 RB/WR/TE Flex then at most 3*8(24) RBs could be started in a given week.\n",
    "positions = {\n",
    "    'QB': (rules.starting_qbs + rules.starting_superflex) * rules.num_teams,\n",
    "    'RB': (rules.starting_rbs + rules.starting_superflex + rules.starting_flex) * rules.num_teams,\n",
    "    'WR': (rules.starting_wrs + rules.starting_superflex + rules.starting_flex) * rules.num_teams,\n",
    "    'TE': (rules.starting_tes + rules.starting_superflex + rules.starting_flex) * rules.num_teams,\n",
    "    'K': rules.starting_ks * rules.num_teams,\n",
    "    'D/ST': rules.starting_dst * rules.num_teams\n",
    "}"
   ]
  },
  {
   "cell_type": "code",
   "execution_count": 8,
   "metadata": {
    "collapsed": true
   },
   "outputs": [],
   "source": [
    "# Iterate through the positions, and calculate the vor for each player in the position.\n",
    "for position, draftable in positions.iteritems():\n",
    "    last_qb = df[df['position'] == position].sort_values(by='pts',ascending=False).iloc[draftable,:]\n",
    "    df.ix[df['position'] == position, 'vor'] = df.ix[df['position'] == position, 'pts'] - last_qb['pts']"
   ]
  },
  {
   "cell_type": "markdown",
   "metadata": {},
   "source": [
    "The following table are the top 16 players in all positions. It represents my rankings for the first two rounds of the 2016 draft."
   ]
  },
  {
   "cell_type": "code",
   "execution_count": 9,
   "metadata": {
    "collapsed": false
   },
   "outputs": [
    {
     "data": {
      "text/html": [
       "<div>\n",
       "<table border=\"1\" class=\"dataframe\">\n",
       "  <thead>\n",
       "    <tr style=\"text-align: right;\">\n",
       "      <th></th>\n",
       "      <th>name</th>\n",
       "      <th>position</th>\n",
       "      <th>pts</th>\n",
       "      <th>vor</th>\n",
       "    </tr>\n",
       "  </thead>\n",
       "  <tbody>\n",
       "    <tr>\n",
       "      <th>320</th>\n",
       "      <td>Antonio Brown</td>\n",
       "      <td>WR</td>\n",
       "      <td>319.87</td>\n",
       "      <td>162.19</td>\n",
       "    </tr>\n",
       "    <tr>\n",
       "      <th>322</th>\n",
       "      <td>Julio Jones</td>\n",
       "      <td>WR</td>\n",
       "      <td>303.08</td>\n",
       "      <td>145.40</td>\n",
       "    </tr>\n",
       "    <tr>\n",
       "      <th>123</th>\n",
       "      <td>David Johnson</td>\n",
       "      <td>RB</td>\n",
       "      <td>265.32</td>\n",
       "      <td>113.89</td>\n",
       "    </tr>\n",
       "    <tr>\n",
       "      <th>121</th>\n",
       "      <td>Todd Gurley</td>\n",
       "      <td>RB</td>\n",
       "      <td>263.70</td>\n",
       "      <td>112.27</td>\n",
       "    </tr>\n",
       "    <tr>\n",
       "      <th>120</th>\n",
       "      <td>Adrian Peterson</td>\n",
       "      <td>RB</td>\n",
       "      <td>260.37</td>\n",
       "      <td>108.94</td>\n",
       "    </tr>\n",
       "    <tr>\n",
       "      <th>124</th>\n",
       "      <td>Devonta Freeman</td>\n",
       "      <td>RB</td>\n",
       "      <td>256.95</td>\n",
       "      <td>105.52</td>\n",
       "    </tr>\n",
       "    <tr>\n",
       "      <th>520</th>\n",
       "      <td>Rob Gronkowski</td>\n",
       "      <td>TE</td>\n",
       "      <td>189.32</td>\n",
       "      <td>102.49</td>\n",
       "    </tr>\n",
       "    <tr>\n",
       "      <th>521</th>\n",
       "      <td>Jordan Reed</td>\n",
       "      <td>TE</td>\n",
       "      <td>183.53</td>\n",
       "      <td>96.70</td>\n",
       "    </tr>\n",
       "  </tbody>\n",
       "</table>\n",
       "</div>"
      ],
      "text/plain": [
       "                name position     pts     vor\n",
       "320    Antonio Brown       WR  319.87  162.19\n",
       "322      Julio Jones       WR  303.08  145.40\n",
       "123    David Johnson       RB  265.32  113.89\n",
       "121      Todd Gurley       RB  263.70  112.27\n",
       "120  Adrian Peterson       RB  260.37  108.94\n",
       "124  Devonta Freeman       RB  256.95  105.52\n",
       "520   Rob Gronkowski       TE  189.32  102.49\n",
       "521      Jordan Reed       TE  183.53   96.70"
      ]
     },
     "execution_count": 9,
     "metadata": {},
     "output_type": "execute_result"
    }
   ],
   "source": [
    "round = 0\n",
    "start = round * rules.num_teams\n",
    "end = start + rules.num_teams\n",
    "df[['name', 'position', 'pts', 'vor']].sort_values(by='vor',ascending=False).iloc[start:end,:]"
   ]
  },
  {
   "cell_type": "code",
   "execution_count": 10,
   "metadata": {
    "collapsed": false
   },
   "outputs": [
    {
     "data": {
      "text/html": [
       "<div>\n",
       "<table border=\"1\" class=\"dataframe\">\n",
       "  <thead>\n",
       "    <tr style=\"text-align: right;\">\n",
       "      <th></th>\n",
       "      <th>name</th>\n",
       "      <th>position</th>\n",
       "      <th>pts</th>\n",
       "      <th>vor</th>\n",
       "    </tr>\n",
       "  </thead>\n",
       "  <tbody>\n",
       "    <tr>\n",
       "      <th>130</th>\n",
       "      <td>LeSean McCoy</td>\n",
       "      <td>RB</td>\n",
       "      <td>244.21</td>\n",
       "      <td>92.78</td>\n",
       "    </tr>\n",
       "    <tr>\n",
       "      <th>126</th>\n",
       "      <td>Lamar Miller</td>\n",
       "      <td>RB</td>\n",
       "      <td>244.13</td>\n",
       "      <td>92.70</td>\n",
       "    </tr>\n",
       "    <tr>\n",
       "      <th>122</th>\n",
       "      <td>Ezekiel Elliott</td>\n",
       "      <td>RB</td>\n",
       "      <td>242.77</td>\n",
       "      <td>91.34</td>\n",
       "    </tr>\n",
       "    <tr>\n",
       "      <th>125</th>\n",
       "      <td>Le'Veon Bell</td>\n",
       "      <td>RB</td>\n",
       "      <td>238.04</td>\n",
       "      <td>86.61</td>\n",
       "    </tr>\n",
       "    <tr>\n",
       "      <th>522</th>\n",
       "      <td>Greg Olsen</td>\n",
       "      <td>TE</td>\n",
       "      <td>172.55</td>\n",
       "      <td>85.72</td>\n",
       "    </tr>\n",
       "    <tr>\n",
       "      <th>128</th>\n",
       "      <td>Mark Ingram</td>\n",
       "      <td>RB</td>\n",
       "      <td>235.96</td>\n",
       "      <td>84.53</td>\n",
       "    </tr>\n",
       "    <tr>\n",
       "      <th>524</th>\n",
       "      <td>Travis Kelce</td>\n",
       "      <td>TE</td>\n",
       "      <td>169.39</td>\n",
       "      <td>82.56</td>\n",
       "    </tr>\n",
       "    <tr>\n",
       "      <th>323</th>\n",
       "      <td>DeAndre Hopkins</td>\n",
       "      <td>WR</td>\n",
       "      <td>237.03</td>\n",
       "      <td>79.35</td>\n",
       "    </tr>\n",
       "  </tbody>\n",
       "</table>\n",
       "</div>"
      ],
      "text/plain": [
       "                name position     pts    vor\n",
       "130     LeSean McCoy       RB  244.21  92.78\n",
       "126     Lamar Miller       RB  244.13  92.70\n",
       "122  Ezekiel Elliott       RB  242.77  91.34\n",
       "125     Le'Veon Bell       RB  238.04  86.61\n",
       "522       Greg Olsen       TE  172.55  85.72\n",
       "128      Mark Ingram       RB  235.96  84.53\n",
       "524     Travis Kelce       TE  169.39  82.56\n",
       "323  DeAndre Hopkins       WR  237.03  79.35"
      ]
     },
     "execution_count": 10,
     "metadata": {},
     "output_type": "execute_result"
    }
   ],
   "source": [
    "round = 1\n",
    "start = 1 + (round * rules.num_teams)\n",
    "end = start + rules.num_teams\n",
    "df[['name', 'position', 'pts', 'vor']].sort_values(by='vor',ascending=False).iloc[start:end,:]"
   ]
  },
  {
   "cell_type": "markdown",
   "metadata": {},
   "source": [
    "## A quick interlude for analysis\n",
    "\n",
    "So far we've actually come pretty far in terms of data collection and massaging. I think, then that it's time that we start taking a look at what it all means. \n",
    "\n",
    "In the above table I've listed the 16 most valuable players according to my model. There are problems here. First of all going into the draft I never had any intention of drafting either Rob Gronkowski or Jordan Reed, simply based off the fact that I *knew* that the tight-end position simply wasn't valuable enough to justify a first or second round pick. The fact that two tightends show up in the top 16 suggest that either my assumptions, or the model, are wrong.\n",
    "\n",
    "## Comparing projected rankings to actual rankings"
   ]
  },
  {
   "cell_type": "code",
   "execution_count": 11,
   "metadata": {
    "collapsed": false
   },
   "outputs": [],
   "source": [
    "actuals = pyffl.scrape_actuals(2016)\n",
    "actuals = pyffl.calculate_points(actuals, rules)"
   ]
  },
  {
   "cell_type": "code",
   "execution_count": 12,
   "metadata": {
    "collapsed": false
   },
   "outputs": [],
   "source": [
    "dfa = pd.DataFrame(actuals, columns=all_keys)\n",
    "dfa['vor'] = np.nan"
   ]
  },
  {
   "cell_type": "code",
   "execution_count": 24,
   "metadata": {
    "collapsed": false
   },
   "outputs": [],
   "source": [
    "positions = {\n",
    "    'QB': (rules.starting_qbs + rules.starting_superflex) * rules.num_teams,\n",
    "    'RB': (rules.starting_rbs + rules.starting_superflex + rules.starting_flex) * rules.num_teams,\n",
    "    'WR': (rules.starting_wrs + rules.starting_superflex + rules.starting_flex) * rules.num_teams,\n",
    "    'TE': (rules.starting_tes + rules.starting_superflex + rules.starting_flex) * rules.num_teams,\n",
    "}\n",
    "# Iterate through the positions, and calculate the vor for each player in the position.\n",
    "for position, draftable in positions.iteritems():\n",
    "    last_qb = dfa[dfa['position'] == position].sort_values(by='pts',ascending=False).iloc[draftable,:]\n",
    "    dfa.ix[dfa['position'] == position, 'vor'] = dfa.ix[dfa['position'] == position, 'pts'] - last_qb['pts']"
   ]
  },
  {
   "cell_type": "code",
   "execution_count": 22,
   "metadata": {
    "collapsed": false
   },
   "outputs": [
    {
     "data": {
      "text/html": [
       "<div>\n",
       "<table border=\"1\" class=\"dataframe\">\n",
       "  <thead>\n",
       "    <tr style=\"text-align: right;\">\n",
       "      <th></th>\n",
       "      <th>name</th>\n",
       "      <th>position</th>\n",
       "      <th>pts</th>\n",
       "      <th>vor</th>\n",
       "    </tr>\n",
       "  </thead>\n",
       "  <tbody>\n",
       "    <tr>\n",
       "      <th>267</th>\n",
       "      <td>David Johnson</td>\n",
       "      <td>RB</td>\n",
       "      <td>268.70</td>\n",
       "      <td>173.80</td>\n",
       "    </tr>\n",
       "    <tr>\n",
       "      <th>223</th>\n",
       "      <td>Ezekiel Elliott</td>\n",
       "      <td>RB</td>\n",
       "      <td>240.30</td>\n",
       "      <td>145.40</td>\n",
       "    </tr>\n",
       "    <tr>\n",
       "      <th>183</th>\n",
       "      <td>DeMarco Murray</td>\n",
       "      <td>RB</td>\n",
       "      <td>232.90</td>\n",
       "      <td>138.00</td>\n",
       "    </tr>\n",
       "    <tr>\n",
       "      <th>114</th>\n",
       "      <td>Melvin Gordon</td>\n",
       "      <td>RB</td>\n",
       "      <td>218.50</td>\n",
       "      <td>123.60</td>\n",
       "    </tr>\n",
       "    <tr>\n",
       "      <th>422</th>\n",
       "      <td>Le'Veon Bell</td>\n",
       "      <td>RB</td>\n",
       "      <td>188.70</td>\n",
       "      <td>93.80</td>\n",
       "    </tr>\n",
       "    <tr>\n",
       "      <th>53</th>\n",
       "      <td>LeSean McCoy</td>\n",
       "      <td>RB</td>\n",
       "      <td>182.50</td>\n",
       "      <td>87.60</td>\n",
       "    </tr>\n",
       "    <tr>\n",
       "      <th>92</th>\n",
       "      <td>Aaron Rodgers</td>\n",
       "      <td>QB</td>\n",
       "      <td>263.46</td>\n",
       "      <td>87.46</td>\n",
       "    </tr>\n",
       "    <tr>\n",
       "      <th>123</th>\n",
       "      <td>Drew Brees</td>\n",
       "      <td>QB</td>\n",
       "      <td>261.34</td>\n",
       "      <td>85.34</td>\n",
       "    </tr>\n",
       "  </tbody>\n",
       "</table>\n",
       "</div>"
      ],
      "text/plain": [
       "                name position     pts     vor\n",
       "267    David Johnson       RB  268.70  173.80\n",
       "223  Ezekiel Elliott       RB  240.30  145.40\n",
       "183   DeMarco Murray       RB  232.90  138.00\n",
       "114    Melvin Gordon       RB  218.50  123.60\n",
       "422     Le'Veon Bell       RB  188.70   93.80\n",
       "53      LeSean McCoy       RB  182.50   87.60\n",
       "92     Aaron Rodgers       QB  263.46   87.46\n",
       "123       Drew Brees       QB  261.34   85.34"
      ]
     },
     "execution_count": 22,
     "metadata": {},
     "output_type": "execute_result"
    }
   ],
   "source": [
    "round = 0\n",
    "start = round * rules.num_teams\n",
    "end = start + rules.num_teams\n",
    "dfa[['name', 'position', 'pts', 'vor']].sort_values(by='vor',ascending=False).iloc[start:end,:]"
   ]
  },
  {
   "cell_type": "code",
   "execution_count": 23,
   "metadata": {
    "collapsed": false
   },
   "outputs": [
    {
     "data": {
      "text/html": [
       "<div>\n",
       "<table border=\"1\" class=\"dataframe\">\n",
       "  <thead>\n",
       "    <tr style=\"text-align: right;\">\n",
       "      <th></th>\n",
       "      <th>name</th>\n",
       "      <th>position</th>\n",
       "      <th>pts</th>\n",
       "      <th>vor</th>\n",
       "    </tr>\n",
       "  </thead>\n",
       "  <tbody>\n",
       "    <tr>\n",
       "      <th>280</th>\n",
       "      <td>LeGarrette Blount</td>\n",
       "      <td>RB</td>\n",
       "      <td>168.00</td>\n",
       "      <td>73.10</td>\n",
       "    </tr>\n",
       "    <tr>\n",
       "      <th>181</th>\n",
       "      <td>Marcus Mariota</td>\n",
       "      <td>QB</td>\n",
       "      <td>247.72</td>\n",
       "      <td>71.72</td>\n",
       "    </tr>\n",
       "    <tr>\n",
       "      <th>146</th>\n",
       "      <td>Matt Forte</td>\n",
       "      <td>RB</td>\n",
       "      <td>164.20</td>\n",
       "      <td>69.30</td>\n",
       "    </tr>\n",
       "    <tr>\n",
       "      <th>19</th>\n",
       "      <td>Devonta Freeman</td>\n",
       "      <td>RB</td>\n",
       "      <td>163.00</td>\n",
       "      <td>68.10</td>\n",
       "    </tr>\n",
       "    <tr>\n",
       "      <th>302</th>\n",
       "      <td>Antonio Brown</td>\n",
       "      <td>WR</td>\n",
       "      <td>183.70</td>\n",
       "      <td>68.00</td>\n",
       "    </tr>\n",
       "    <tr>\n",
       "      <th>18</th>\n",
       "      <td>Matt Ryan</td>\n",
       "      <td>QB</td>\n",
       "      <td>241.04</td>\n",
       "      <td>65.04</td>\n",
       "    </tr>\n",
       "    <tr>\n",
       "      <th>109</th>\n",
       "      <td>Travis Kelce</td>\n",
       "      <td>TE</td>\n",
       "      <td>124.30</td>\n",
       "      <td>64.80</td>\n",
       "    </tr>\n",
       "    <tr>\n",
       "      <th>24</th>\n",
       "      <td>Julio Jones</td>\n",
       "      <td>WR</td>\n",
       "      <td>179.50</td>\n",
       "      <td>63.80</td>\n",
       "    </tr>\n",
       "  </tbody>\n",
       "</table>\n",
       "</div>"
      ],
      "text/plain": [
       "                  name position     pts    vor\n",
       "280  LeGarrette Blount       RB  168.00  73.10\n",
       "181     Marcus Mariota       QB  247.72  71.72\n",
       "146         Matt Forte       RB  164.20  69.30\n",
       "19     Devonta Freeman       RB  163.00  68.10\n",
       "302      Antonio Brown       WR  183.70  68.00\n",
       "18           Matt Ryan       QB  241.04  65.04\n",
       "109       Travis Kelce       TE  124.30  64.80\n",
       "24         Julio Jones       WR  179.50  63.80"
      ]
     },
     "execution_count": 23,
     "metadata": {},
     "output_type": "execute_result"
    }
   ],
   "source": [
    "round = 1\n",
    "start = 1 + (round * rules.num_teams)\n",
    "end = start + rules.num_teams\n",
    "dfa[['name', 'position', 'pts', 'vor']].sort_values(by='vor',ascending=False).iloc[start:end,:]"
   ]
  }
 ],
 "metadata": {
  "anaconda-cloud": {},
  "kernelspec": {
   "display_name": "Python [conda env:pyffl]",
   "language": "python",
   "name": "conda-env-pyffl-py"
  },
  "language_info": {
   "codemirror_mode": {
    "name": "ipython",
    "version": 2
   },
   "file_extension": ".py",
   "mimetype": "text/x-python",
   "name": "python",
   "nbconvert_exporter": "python",
   "pygments_lexer": "ipython2",
   "version": "2.7.12"
  }
 },
 "nbformat": 4,
 "nbformat_minor": 1
}
